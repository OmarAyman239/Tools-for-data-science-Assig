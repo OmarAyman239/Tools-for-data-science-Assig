{
  "cells": [
    {
      "cell_type": "markdown",
      "metadata": {
        "id": "CJIRdCoptAj2"
      },
      "source": [
        "# Tools for Data Science Juptyr Notebook Project\n"
      ]
    },
    {
      "cell_type": "markdown",
      "metadata": {
        "id": "RACFHhX-tGjq"
      },
      "source": [
        "This notebook demonstrates basic concepts related to Data Science. It includes examples of data science languages, libraries, tools, arithmetic operations, and alot more of related data science stuff.\n"
      ]
    },
    {
      "cell_type": "markdown",
      "metadata": {
        "id": "jkgnz4Y3tsGf"
      },
      "source": [
        "## Data Science Languages\n",
        "\n",
        "- Python\n",
        "- R\n",
        "- SQL\n",
        "- Julia\n",
        "- Scala\n"
      ]
    },
    {
      "cell_type": "markdown",
      "metadata": {
        "id": "05-uF4eVtviC"
      },
      "source": [
        "## Data Science Libraries\n",
        "\n",
        "- Pandas\n",
        "- NumPy\n",
        "- Matplotlib\n",
        "- Seaborn\n",
        "- Scikit-learn\n",
        "- TensorFlow\n",
        "- Keras\n",
        "- PyTorch\n"
      ]
    },
    {
      "cell_type": "markdown",
      "metadata": {
        "id": "qN1rtvQHtx8i"
      },
      "source": [
        "# Data science tools\n",
        "\n",
        "| Tool             |\n",
        "| ---------------- |\n",
        "| Jupyter Notebook |\n",
        "| RStudio          |\n",
        "| Apache Spark     |\n",
        "| Apache Hadoop    |\n",
        "| TensorBoard      |\n"
      ]
    },
    {
      "cell_type": "markdown",
      "metadata": {
        "id": "qUwt2gWitS2R"
      },
      "source": []
    },
    {
      "cell_type": "markdown",
      "metadata": {
        "id": "trAFJtb8u19E"
      },
      "source": [
        "#Arithmetic Expression Examples\n",
        "Those are examples of some arithmetic expressions:\n",
        "\n",
        "- add +\n",
        "- subtract -\n",
        "- multiply \\*\n",
        "- divide /\n",
        "- smaller than <\n",
        "- bigger than >\n"
      ]
    },
    {
      "cell_type": "code",
      "execution_count": 2,
      "metadata": {
        "colab": {
          "base_uri": "https://localhost:8080/"
        },
        "id": "1c8RhuS2vko9",
        "outputId": "cf9cbab3-b3a0-4866-ecee-0018a42eb08e"
      },
      "outputs": [
        {
          "data": {
            "text/plain": [
              "(14, 9)"
            ]
          },
          "execution_count": 2,
          "metadata": {},
          "output_type": "execute_result"
        }
      ],
      "source": [
        "# Multiplication and addition\n",
        "a = 2\n",
        "b = 7\n",
        "multiplication = a * b\n",
        "addition = a + b\n",
        "multiplication, addition"
      ]
    },
    {
      "cell_type": "code",
      "execution_count": 4,
      "metadata": {
        "colab": {
          "base_uri": "https://localhost:8080/"
        },
        "id": "S882VpNhvthe",
        "outputId": "7e5806d9-bbf3-4da0-ae1c-dee923e55497"
      },
      "outputs": [
        {
          "data": {
            "text/plain": [
              "2.0"
            ]
          },
          "execution_count": 4,
          "metadata": {},
          "output_type": "execute_result"
        }
      ],
      "source": [
        "minutes = 120\n",
        "hours = minutes / 60\n",
        "hours"
      ]
    },
    {
      "cell_type": "markdown",
      "metadata": {
        "id": "7C78GICgvz0g"
      },
      "source": [
        "#Objectives of this project\n",
        "\n",
        "- List popular data science languages\n",
        "- List some of the most used libraries\n",
        "- Try some arithmetic operations in Jupytr\n",
        "- Get familliar with Jupytr notebooks\n"
      ]
    },
    {
      "cell_type": "markdown",
      "metadata": {
        "id": "pVsSjlF0wGx6"
      },
      "source": [
        "#Author name\n",
        "\n",
        "**_Omar Ayman_**\n"
      ]
    }
  ],
  "metadata": {
    "colab": {
      "provenance": []
    },
    "kernelspec": {
      "display_name": "Python 3",
      "name": "python3"
    },
    "language_info": {
      "name": "python"
    }
  },
  "nbformat": 4,
  "nbformat_minor": 0
}
